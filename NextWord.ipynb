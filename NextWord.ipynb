{
  "nbformat": 4,
  "nbformat_minor": 0,
  "metadata": {
    "colab": {
      "provenance": [],
      "authorship_tag": "ABX9TyNHrkvkr+95b+mjuUHGMP8X",
      "include_colab_link": true
    },
    "kernelspec": {
      "name": "python3",
      "display_name": "Python 3"
    },
    "language_info": {
      "name": "python"
    }
  },
  "cells": [
    {
      "cell_type": "markdown",
      "metadata": {
        "id": "view-in-github",
        "colab_type": "text"
      },
      "source": [
        "<a href=\"https://colab.research.google.com/github/poorvaa18/Next_Word_Predictor/blob/main/NextWord.ipynb\" target=\"_parent\"><img src=\"https://colab.research.google.com/assets/colab-badge.svg\" alt=\"Open In Colab\"/></a>"
      ]
    },
    {
      "cell_type": "markdown",
      "source": [
        "LSTM-based Next Word Predictor"
      ],
      "metadata": {
        "id": "TXrukyfX__S8"
      }
    },
    {
      "cell_type": "code",
      "source": [
        "import tensorflow as tf\n",
        "from tensorflow.keras.preprocessing.text import Tokenizer\n",
        "from tensorflow.keras.layers import Embedding,LSTM, Dense\n",
        "from tensorflow.keras.models import Sequential\n",
        "from tensorflow.keras.utils import to_categorical\n",
        "from tensorflow.keras.optimizers import Adam\n",
        "import pickle\n",
        "import numpy as np\n",
        "import os"
      ],
      "metadata": {
        "id": "L3X2HzHmarf8"
      },
      "execution_count": 6,
      "outputs": []
    },
    {
      "cell_type": "markdown",
      "source": [
        "Sure! Here's an explanation of each library mentioned in the code:\n",
        "\n",
        "1. **TensorFlow (`import tensorflow as tf`)**: TensorFlow is an open-source machine learning framework that provides a wide range of tools and libraries for building and training machine learning models. It includes various APIs and modules for working with neural networks, optimization algorithms, data preprocessing, and more.\n",
        "\n",
        "2. **TensorFlow Keras (`from tensorflow.keras...`)**: TensorFlow Keras is the high-level API provided by TensorFlow for building and training deep learning models. It provides a user-friendly interface for defining neural networks, configuring layers, and training models.\n",
        "\n",
        "3. **Tokenizer (`from tensorflow.keras.preprocessing.text import Tokenizer`)**: The Tokenizer class in Keras preprocessing module is used to tokenize text documents into individual words or characters. It helps in converting text into a numerical representation that can be fed into a neural network for training or inference.\n",
        "\n",
        "4. **Embedding (`from tensorflow.keras.layers import Embedding`)**: The Embedding layer in Keras is used for word embedding. It maps each word in a text sequence to a high-dimensional vector representation. Embeddings capture semantic relationships between words and are commonly used as input to neural networks in natural language processing tasks.\n",
        "\n",
        "5. **LSTM (`from tensorflow.keras.layers import LSTM`)**: LSTM (Long Short-Term Memory) is a type of recurrent neural network (RNN) layer. It is commonly used for processing sequential data, such as text or time series data, by capturing long-term dependencies and handling the vanishing gradient problem.\n",
        "\n",
        "6. **Dense (`from tensorflow.keras.layers import Dense`)**: The Dense layer in Keras is a fully connected layer, where each neuron is connected to every neuron in the previous layer. It is used for introducing non-linearity and learning complex patterns in the data.\n",
        "\n",
        "7. **Sequential (`from tensorflow.keras.models import Sequential`)**: The Sequential model in Keras is a linear stack of layers. It allows you to build models layer-by-layer, where the output of each layer becomes the input of the next layer. Sequential models are commonly used for building feedforward neural networks.\n",
        "\n",
        "8. **to_categorical (`from tensorflow.keras.utils import to_categorical`)**: The to_categorical function in Keras utils module is used for one-hot encoding categorical labels. It converts integer labels into binary vectors, where each label is represented as a vector with all zeros except for the index corresponding to the label, which is set to one.\n",
        "\n",
        "9. **Adam (`from tensorflow.keras.optimizers import Adam`)**: Adam is an optimization algorithm commonly used for training deep learning models. It adapts the learning rate dynamically and combines ideas from both AdaGrad and RMSProp algorithms. The Adam optimizer is often used for its good convergence properties and efficiency.\n",
        "\n",
        "These libraries and modules provided by TensorFlow and TensorFlow Keras offer a wide range of functionalities for building and training machine learning models, especially for tasks related to text processing and sequence data."
      ],
      "metadata": {
        "id": "DWOSRyShhjYf"
      }
    },
    {
      "cell_type": "code",
      "source": [
        "from google.colab import files\n",
        "uploaded = files.upload()"
      ],
      "metadata": {
        "colab": {
          "base_uri": "https://localhost:8080/",
          "height": 73
        },
        "id": "XiEmkJNlhqcy",
        "outputId": "6ff2d665-5900-4d8a-d329-ebb7ae3f1ee1"
      },
      "execution_count": 7,
      "outputs": [
        {
          "output_type": "display_data",
          "data": {
            "text/plain": [
              "<IPython.core.display.HTML object>"
            ],
            "text/html": [
              "\n",
              "     <input type=\"file\" id=\"files-909fe575-6c72-4492-a34f-89152e6c25f3\" name=\"files[]\" multiple disabled\n",
              "        style=\"border:none\" />\n",
              "     <output id=\"result-909fe575-6c72-4492-a34f-89152e6c25f3\">\n",
              "      Upload widget is only available when the cell has been executed in the\n",
              "      current browser session. Please rerun this cell to enable.\n",
              "      </output>\n",
              "      <script>// Copyright 2017 Google LLC\n",
              "//\n",
              "// Licensed under the Apache License, Version 2.0 (the \"License\");\n",
              "// you may not use this file except in compliance with the License.\n",
              "// You may obtain a copy of the License at\n",
              "//\n",
              "//      http://www.apache.org/licenses/LICENSE-2.0\n",
              "//\n",
              "// Unless required by applicable law or agreed to in writing, software\n",
              "// distributed under the License is distributed on an \"AS IS\" BASIS,\n",
              "// WITHOUT WARRANTIES OR CONDITIONS OF ANY KIND, either express or implied.\n",
              "// See the License for the specific language governing permissions and\n",
              "// limitations under the License.\n",
              "\n",
              "/**\n",
              " * @fileoverview Helpers for google.colab Python module.\n",
              " */\n",
              "(function(scope) {\n",
              "function span(text, styleAttributes = {}) {\n",
              "  const element = document.createElement('span');\n",
              "  element.textContent = text;\n",
              "  for (const key of Object.keys(styleAttributes)) {\n",
              "    element.style[key] = styleAttributes[key];\n",
              "  }\n",
              "  return element;\n",
              "}\n",
              "\n",
              "// Max number of bytes which will be uploaded at a time.\n",
              "const MAX_PAYLOAD_SIZE = 100 * 1024;\n",
              "\n",
              "function _uploadFiles(inputId, outputId) {\n",
              "  const steps = uploadFilesStep(inputId, outputId);\n",
              "  const outputElement = document.getElementById(outputId);\n",
              "  // Cache steps on the outputElement to make it available for the next call\n",
              "  // to uploadFilesContinue from Python.\n",
              "  outputElement.steps = steps;\n",
              "\n",
              "  return _uploadFilesContinue(outputId);\n",
              "}\n",
              "\n",
              "// This is roughly an async generator (not supported in the browser yet),\n",
              "// where there are multiple asynchronous steps and the Python side is going\n",
              "// to poll for completion of each step.\n",
              "// This uses a Promise to block the python side on completion of each step,\n",
              "// then passes the result of the previous step as the input to the next step.\n",
              "function _uploadFilesContinue(outputId) {\n",
              "  const outputElement = document.getElementById(outputId);\n",
              "  const steps = outputElement.steps;\n",
              "\n",
              "  const next = steps.next(outputElement.lastPromiseValue);\n",
              "  return Promise.resolve(next.value.promise).then((value) => {\n",
              "    // Cache the last promise value to make it available to the next\n",
              "    // step of the generator.\n",
              "    outputElement.lastPromiseValue = value;\n",
              "    return next.value.response;\n",
              "  });\n",
              "}\n",
              "\n",
              "/**\n",
              " * Generator function which is called between each async step of the upload\n",
              " * process.\n",
              " * @param {string} inputId Element ID of the input file picker element.\n",
              " * @param {string} outputId Element ID of the output display.\n",
              " * @return {!Iterable<!Object>} Iterable of next steps.\n",
              " */\n",
              "function* uploadFilesStep(inputId, outputId) {\n",
              "  const inputElement = document.getElementById(inputId);\n",
              "  inputElement.disabled = false;\n",
              "\n",
              "  const outputElement = document.getElementById(outputId);\n",
              "  outputElement.innerHTML = '';\n",
              "\n",
              "  const pickedPromise = new Promise((resolve) => {\n",
              "    inputElement.addEventListener('change', (e) => {\n",
              "      resolve(e.target.files);\n",
              "    });\n",
              "  });\n",
              "\n",
              "  const cancel = document.createElement('button');\n",
              "  inputElement.parentElement.appendChild(cancel);\n",
              "  cancel.textContent = 'Cancel upload';\n",
              "  const cancelPromise = new Promise((resolve) => {\n",
              "    cancel.onclick = () => {\n",
              "      resolve(null);\n",
              "    };\n",
              "  });\n",
              "\n",
              "  // Wait for the user to pick the files.\n",
              "  const files = yield {\n",
              "    promise: Promise.race([pickedPromise, cancelPromise]),\n",
              "    response: {\n",
              "      action: 'starting',\n",
              "    }\n",
              "  };\n",
              "\n",
              "  cancel.remove();\n",
              "\n",
              "  // Disable the input element since further picks are not allowed.\n",
              "  inputElement.disabled = true;\n",
              "\n",
              "  if (!files) {\n",
              "    return {\n",
              "      response: {\n",
              "        action: 'complete',\n",
              "      }\n",
              "    };\n",
              "  }\n",
              "\n",
              "  for (const file of files) {\n",
              "    const li = document.createElement('li');\n",
              "    li.append(span(file.name, {fontWeight: 'bold'}));\n",
              "    li.append(span(\n",
              "        `(${file.type || 'n/a'}) - ${file.size} bytes, ` +\n",
              "        `last modified: ${\n",
              "            file.lastModifiedDate ? file.lastModifiedDate.toLocaleDateString() :\n",
              "                                    'n/a'} - `));\n",
              "    const percent = span('0% done');\n",
              "    li.appendChild(percent);\n",
              "\n",
              "    outputElement.appendChild(li);\n",
              "\n",
              "    const fileDataPromise = new Promise((resolve) => {\n",
              "      const reader = new FileReader();\n",
              "      reader.onload = (e) => {\n",
              "        resolve(e.target.result);\n",
              "      };\n",
              "      reader.readAsArrayBuffer(file);\n",
              "    });\n",
              "    // Wait for the data to be ready.\n",
              "    let fileData = yield {\n",
              "      promise: fileDataPromise,\n",
              "      response: {\n",
              "        action: 'continue',\n",
              "      }\n",
              "    };\n",
              "\n",
              "    // Use a chunked sending to avoid message size limits. See b/62115660.\n",
              "    let position = 0;\n",
              "    do {\n",
              "      const length = Math.min(fileData.byteLength - position, MAX_PAYLOAD_SIZE);\n",
              "      const chunk = new Uint8Array(fileData, position, length);\n",
              "      position += length;\n",
              "\n",
              "      const base64 = btoa(String.fromCharCode.apply(null, chunk));\n",
              "      yield {\n",
              "        response: {\n",
              "          action: 'append',\n",
              "          file: file.name,\n",
              "          data: base64,\n",
              "        },\n",
              "      };\n",
              "\n",
              "      let percentDone = fileData.byteLength === 0 ?\n",
              "          100 :\n",
              "          Math.round((position / fileData.byteLength) * 100);\n",
              "      percent.textContent = `${percentDone}% done`;\n",
              "\n",
              "    } while (position < fileData.byteLength);\n",
              "  }\n",
              "\n",
              "  // All done.\n",
              "  yield {\n",
              "    response: {\n",
              "      action: 'complete',\n",
              "    }\n",
              "  };\n",
              "}\n",
              "\n",
              "scope.google = scope.google || {};\n",
              "scope.google.colab = scope.google.colab || {};\n",
              "scope.google.colab._files = {\n",
              "  _uploadFiles,\n",
              "  _uploadFilesContinue,\n",
              "};\n",
              "})(self);\n",
              "</script> "
            ]
          },
          "metadata": {}
        },
        {
          "output_type": "stream",
          "name": "stdout",
          "text": [
            "Saving Romeo&Juliet.txt to Romeo&Juliet.txt\n"
          ]
        }
      ]
    },
    {
      "cell_type": "code",
      "source": [
        "file= open(\"Romeo&Juliet.txt\",'r',encoding='utf8')\n",
        "#storing file in a lit\n",
        "linelist=[]\n",
        "for i in file:\n",
        "  linelist.append(i)\n",
        "\n",
        "#converting list into string\n",
        "data=\"\"\n",
        "for i in linelist:\n",
        "  data=' '.join(linelist)\n",
        "\n",
        "data = data.replace('\\n', '').replace('\\r', '').replace('\\ufeff', '').replace('“','').replace('”','')\n",
        "#remove unnecessary spaces \n",
        "data = data.split()\n",
        "data = ' '.join(data)\n",
        "data[:500]  #selecting only first 500 characters"
      ],
      "metadata": {
        "colab": {
          "base_uri": "https://localhost:8080/",
          "height": 87
        },
        "id": "KDvdre25h9Z6",
        "outputId": "c31a320c-3df2-4e6e-beb9-34f27f7f30ab"
      },
      "execution_count": 8,
      "outputs": [
        {
          "output_type": "execute_result",
          "data": {
            "text/plain": [
              "'The Project Gutenberg eBook of Romeo and Juliet, by William Shakespeare This eBook is for the use of anyone anywhere in the United States and most other parts of the world at no cost and with almost no restrictions whatsoever. You may copy it, give it away or re-use it under the terms of the Project Gutenberg License included with this eBook or online at www.gutenberg.org. If you are not located in the United States, you will have to check the laws of the country where you are located before usi'"
            ],
            "application/vnd.google.colaboratory.intrinsic+json": {
              "type": "string"
            }
          },
          "metadata": {},
          "execution_count": 8
        }
      ]
    },
    {
      "cell_type": "code",
      "source": [
        "len(data)"
      ],
      "metadata": {
        "colab": {
          "base_uri": "https://localhost:8080/"
        },
        "id": "8EwKm3L9jyn2",
        "outputId": "f4542642-f4b5-4a01-84df-e01418324f5b"
      },
      "execution_count": 9,
      "outputs": [
        {
          "output_type": "execute_result",
          "data": {
            "text/plain": [
              "160221"
            ]
          },
          "metadata": {},
          "execution_count": 9
        }
      ]
    },
    {
      "cell_type": "code",
      "source": [
        "#tokenizing \n",
        "tokenizer = Tokenizer()\n",
        "tokenizer.fit_on_texts([data])\n",
        "\n",
        "#texts_to_sequences() method takes a list of texts as input and converts each text \n",
        "#into a sequence of integers based on the vocabulary learned by the tokenizer during the fitting step.\n",
        "sequence_data=tokenizer.texts_to_sequences([data])[0]\n",
        "sequence_data[:15]\n",
        "\n",
        "pickle.dump(tokenizer,open('token.pkl','wb'))"
      ],
      "metadata": {
        "id": "CokzQ90Mmn59"
      },
      "execution_count": 10,
      "outputs": []
    },
    {
      "cell_type": "code",
      "source": [
        "sequence_data[:15]\n",
        "#It provides a preview of the converted text data by showing the first 15 integers in the sequence."
      ],
      "metadata": {
        "colab": {
          "base_uri": "https://localhost:8080/"
        },
        "id": "XUGM3fsbpMt-",
        "outputId": "53ad481e-e3b9-45e5-d075-2370a7762824"
      },
      "execution_count": 11,
      "outputs": [
        {
          "output_type": "execute_result",
          "data": {
            "text/plain": [
              "[1, 53, 49, 306, 6, 12, 2, 22, 32, 967, 783, 16, 306, 8, 18]"
            ]
          },
          "metadata": {},
          "execution_count": 11
        }
      ]
    },
    {
      "cell_type": "code",
      "source": [
        "len(sequence_data)"
      ],
      "metadata": {
        "colab": {
          "base_uri": "https://localhost:8080/"
        },
        "id": "l3Ds5B4eplY9",
        "outputId": "1b383fcc-66e4-4aeb-951b-4e23514cae78"
      },
      "execution_count": 12,
      "outputs": [
        {
          "output_type": "execute_result",
          "data": {
            "text/plain": [
              "29352"
            ]
          },
          "metadata": {},
          "execution_count": 12
        }
      ]
    },
    {
      "cell_type": "code",
      "source": [
        "#adding 1, the code accounts for an additional index that is reserved for out-of-vocabulary (OOV) words\n",
        "vocab_size=len(tokenizer.word_index)+1\n",
        "print(vocab_size)\n",
        "#represents the total number of unique words in the vocabulary,"
      ],
      "metadata": {
        "colab": {
          "base_uri": "https://localhost:8080/"
        },
        "id": "HUncVla6p2WY",
        "outputId": "2468e4df-dcb8-4ed4-fbd2-f3b348fb2f53"
      },
      "execution_count": 13,
      "outputs": [
        {
          "output_type": "stream",
          "name": "stdout",
          "text": [
            "4282\n"
          ]
        }
      ]
    },
    {
      "cell_type": "code",
      "source": [
        "sequence=[]\n",
        "for i in range(3, len(sequence_data)):\n",
        "  words=sequence_data[i-3:i+1] #prediction of 4th word\n",
        "  sequence.append(words)\n",
        "\n",
        "sequence=np.array(sequence)\n",
        "sequence[:5]\n",
        "#the first 3 words are the input and the last word will be output"
      ],
      "metadata": {
        "id": "ieVNc9kSruQk",
        "colab": {
          "base_uri": "https://localhost:8080/"
        },
        "outputId": "2200c4ff-de9d-41c1-c988-30834e23a6d2"
      },
      "execution_count": 15,
      "outputs": [
        {
          "output_type": "execute_result",
          "data": {
            "text/plain": [
              "array([[  1,  53,  49, 306],\n",
              "       [ 53,  49, 306,   6],\n",
              "       [ 49, 306,   6,  12],\n",
              "       [306,   6,  12,   2],\n",
              "       [  6,  12,   2,  22]])"
            ]
          },
          "metadata": {},
          "execution_count": 15
        }
      ]
    },
    {
      "cell_type": "code",
      "source": [
        "x=[]\n",
        "y=[]\n",
        "for i in sequence:\n",
        "  x.append(i[0:3])\n",
        "  y.append(i[3])\n",
        "\n",
        "X=np.array(x)\n",
        "y=np.array(y)\n",
        "print(\"Data \",X[:10])\n",
        "print('Response ',y[:10])"
      ],
      "metadata": {
        "colab": {
          "base_uri": "https://localhost:8080/"
        },
        "id": "9iA3k8jlhPho",
        "outputId": "1d2fb37d-0c0a-4a85-be0d-cdf5cfbdaaa9"
      },
      "execution_count": 17,
      "outputs": [
        {
          "output_type": "stream",
          "name": "stdout",
          "text": [
            "Data  [[  1  53  49]\n",
            " [ 53  49 306]\n",
            " [ 49 306   6]\n",
            " [306   6  12]\n",
            " [  6  12   2]\n",
            " [ 12   2  22]\n",
            " [  2  22  32]\n",
            " [ 22  32 967]\n",
            " [ 32 967 783]\n",
            " [967 783  16]]\n",
            "Response  [306   6  12   2  22  32 967 783  16 306]\n"
          ]
        }
      ]
    },
    {
      "cell_type": "code",
      "source": [
        "#to_categorical function converts y into a one-hot encoded representation, where each value in y is converted into a binary vector of length vocab_size.\n",
        "y = to_categorical(y,num_classes=vocab_size)\n",
        "y[:5]"
      ],
      "metadata": {
        "colab": {
          "base_uri": "https://localhost:8080/"
        },
        "id": "Y8JAc3V9tGH4",
        "outputId": "803a39af-9bf7-4730-8787-e4c920ae5f65"
      },
      "execution_count": 18,
      "outputs": [
        {
          "output_type": "execute_result",
          "data": {
            "text/plain": [
              "array([[0., 0., 0., ..., 0., 0., 0.],\n",
              "       [0., 0., 0., ..., 0., 0., 0.],\n",
              "       [0., 0., 0., ..., 0., 0., 0.],\n",
              "       [0., 0., 1., ..., 0., 0., 0.],\n",
              "       [0., 0., 0., ..., 0., 0., 0.]], dtype=float32)"
            ]
          },
          "metadata": {},
          "execution_count": 18
        }
      ]
    },
    {
      "cell_type": "code",
      "source": [
        "model = Sequential()\n",
        "model.add(Embedding(vocab_size, 10, input_length=3))\n",
        "model.add(LSTM(1000, return_sequences=True))\n",
        "model.add(LSTM(1000))\n",
        "model.add(Dense(1000, activation=\"relu\"))\n",
        "model.add(Dense(vocab_size, activation=\"softmax\"))\n",
        "model.summary()"
      ],
      "metadata": {
        "colab": {
          "base_uri": "https://localhost:8080/"
        },
        "id": "BqySh5I2vynl",
        "outputId": "c0b40409-403b-4391-a8d7-142a1beab087"
      },
      "execution_count": 20,
      "outputs": [
        {
          "output_type": "stream",
          "name": "stdout",
          "text": [
            "Model: \"sequential_1\"\n",
            "_________________________________________________________________\n",
            " Layer (type)                Output Shape              Param #   \n",
            "=================================================================\n",
            " embedding_1 (Embedding)     (None, 3, 10)             42820     \n",
            "                                                                 \n",
            " lstm_2 (LSTM)               (None, 3, 1000)           4044000   \n",
            "                                                                 \n",
            " lstm_3 (LSTM)               (None, 1000)              8004000   \n",
            "                                                                 \n",
            " dense_2 (Dense)             (None, 1000)              1001000   \n",
            "                                                                 \n",
            " dense_3 (Dense)             (None, 4282)              4286282   \n",
            "                                                                 \n",
            "=================================================================\n",
            "Total params: 17,378,102\n",
            "Trainable params: 17,378,102\n",
            "Non-trainable params: 0\n",
            "_________________________________________________________________\n"
          ]
        }
      ]
    },
    {
      "cell_type": "code",
      "source": [
        "from tensorflow import keras\n",
        "from keras.utils.vis_utils import plot_model\n",
        "\n",
        "keras.utils.plot_model(model, to_file='plot.png', show_layer_names=True)"
      ],
      "metadata": {
        "colab": {
          "base_uri": "https://localhost:8080/",
          "height": 564
        },
        "id": "afVOtHbQ1Lbj",
        "outputId": "a14853e9-64da-4f74-a856-09784d665eca"
      },
      "execution_count": 21,
      "outputs": [
        {
          "output_type": "execute_result",
          "data": {
            "image/png": "[encoded data removed]",
            "text/plain": [
              "<IPython.core.display.Image object>"
            ]
          },
          "metadata": {},
          "execution_count": 21
        }
      ]
    },
    {
      "cell_type": "code",
      "source": [
        "from tensorflow.keras.callbacks import ModelCheckpoint\n",
        "\n",
        "checkpoint = ModelCheckpoint(\"next_words.h5\", monitor='loss', verbose=1, save_best_only=True)\n",
        "model.compile(loss=\"categorical_crossentropy\", optimizer=Adam(learning_rate=0.001))\n",
        "model.fit(X, y, epochs=7, batch_size=64, callbacks=[checkpoint])"
      ],
      "metadata": {
        "colab": {
          "base_uri": "https://localhost:8080/"
        },
        "id": "kIuG4O_o1WIa",
        "outputId": "64aa4a99-b923-4da7-cf00-5d0cda840ad4"
      },
      "execution_count": 24,
      "outputs": [
        {
          "output_type": "stream",
          "name": "stdout",
          "text": [
            "Epoch 1/7\n",
            "459/459 [==============================] - ETA: 0s - loss: 6.7811\n",
            "Epoch 1: loss improved from inf to 6.78105, saving model to next_words.h5\n",
            "459/459 [==============================] - 150s 321ms/step - loss: 6.7811\n",
            "Epoch 2/7\n",
            "459/459 [==============================] - ETA: 0s - loss: 6.4466\n",
            "Epoch 2: loss improved from 6.78105 to 6.44661, saving model to next_words.h5\n",
            "459/459 [==============================] - 151s 329ms/step - loss: 6.4466\n",
            "Epoch 3/7\n",
            "459/459 [==============================] - ETA: 0s - loss: 6.1845\n",
            "Epoch 3: loss improved from 6.44661 to 6.18452, saving model to next_words.h5\n",
            "459/459 [==============================] - 152s 331ms/step - loss: 6.1845\n",
            "Epoch 4/7\n",
            "459/459 [==============================] - ETA: 0s - loss: 5.9256\n",
            "Epoch 4: loss improved from 6.18452 to 5.92564, saving model to next_words.h5\n",
            "459/459 [==============================] - 151s 330ms/step - loss: 5.9256\n",
            "Epoch 5/7\n",
            "459/459 [==============================] - ETA: 0s - loss: 5.6682\n",
            "Epoch 5: loss improved from 5.92564 to 5.66822, saving model to next_words.h5\n",
            "459/459 [==============================] - 153s 334ms/step - loss: 5.6682\n",
            "Epoch 6/7\n",
            "459/459 [==============================] - ETA: 0s - loss: 5.4235\n",
            "Epoch 6: loss improved from 5.66822 to 5.42347, saving model to next_words.h5\n",
            "459/459 [==============================] - 153s 334ms/step - loss: 5.4235\n",
            "Epoch 7/7\n",
            "459/459 [==============================] - ETA: 0s - loss: 5.1921\n",
            "Epoch 7: loss improved from 5.42347 to 5.19213, saving model to next_words.h5\n",
            "459/459 [==============================] - 154s 335ms/step - loss: 5.1921\n"
          ]
        },
        {
          "output_type": "execute_result",
          "data": {
            "text/plain": [
              "<keras.callbacks.History at 0x7f55af565b40>"
            ]
          },
          "metadata": {},
          "execution_count": 24
        }
      ]
    },
    {
      "cell_type": "code",
      "source": [
        "from tensorflow.keras.models import load_model\n",
        "import numpy as np\n",
        "import pickle\n",
        "\n",
        "# Load the model and tokenizer\n",
        "model = load_model('next_words.h5')\n",
        "tokenizer = pickle.load(open('token.pkl', 'rb'))\n",
        "\n",
        "def Predict_Next_Words(model, tokenizer, text):\n",
        "\n",
        "  sequence = tokenizer.texts_to_sequences([text])\n",
        "  sequence = np.array(sequence)\n",
        "  preds = np.argmax(model.predict(sequence))\n",
        "  predicted_word = \"\"\n",
        "  \n",
        "  for key, value in tokenizer.word_index.items():\n",
        "      if value == preds:\n",
        "          predicted_word = key\n",
        "          break\n",
        "  \n",
        "  print(predicted_word)\n",
        "  return predicted_word"
      ],
      "metadata": {
        "id": "oxEK5tBz1kg5"
      },
      "execution_count": 25,
      "outputs": []
    },
    {
      "cell_type": "code",
      "source": [
        "while(True):\n",
        "  text = input(\"Enter your line: \")\n",
        "  \n",
        "  if text == \"0\":\n",
        "      print(\"Execution completed.....\")\n",
        "      break\n",
        "  \n",
        "  else:\n",
        "      try:\n",
        "          text = text.split(\" \")\n",
        "          text = text[-3:]\n",
        "          print(text)\n",
        "        \n",
        "          Predict_Next_Words(model, tokenizer, text)\n",
        "          \n",
        "      except Exception as e:\n",
        "        print(\"Error occurred: \",e)\n",
        "        continue\n"
      ],
      "metadata": {
        "colab": {
          "base_uri": "https://localhost:8080/"
        },
        "id": "J4HX24H49BD0",
        "outputId": "d7a0634c-857e-4f4c-9fe4-763479c175aa"
      },
      "execution_count": null,
      "outputs": [
        {
          "output_type": "stream",
          "name": "stdout",
          "text": [
            "Enter your line: The Project Gutenberg\n",
            "['The', 'Project', 'Gutenberg']\n",
            "1/1 [==============================] - 1s 649ms/step\n",
            "tm\n",
            "Enter your line: eBook of Romeo \n",
            "['of', 'Romeo', '']\n",
            "1/1 [==============================] - 1s 538ms/step\n",
            "and\n"
          ]
        }
      ]
    },
    {
      "cell_type": "code",
      "source": [],
      "metadata": {
        "id": "7dttn1jR-Umc"
      },
      "execution_count": null,
      "outputs": []
    }
  ]
}